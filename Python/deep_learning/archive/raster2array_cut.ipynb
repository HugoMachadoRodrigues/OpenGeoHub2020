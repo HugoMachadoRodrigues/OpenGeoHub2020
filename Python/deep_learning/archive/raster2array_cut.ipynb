{
 "cells": [
  {
   "cell_type": "code",
   "execution_count": 1,
   "metadata": {},
   "outputs": [],
   "source": [
    "#!/usr/bin/env python3\n",
    "# -*- coding: utf-8 -*-\n",
    "\n",
    "import os\n",
    "import gdal \n",
    "import numpy as np\n",
    "\n",
    " \n",
    "import pandas as pd"
   ]
  },
  {
   "cell_type": "code",
   "execution_count": 21,
   "metadata": {},
   "outputs": [
    {
     "data": {
      "text/plain": [
       "5521"
      ]
     },
     "execution_count": 21,
     "metadata": {},
     "output_type": "execute_result"
    }
   ],
   "source": [
    " \n",
    "\n"
   ]
  },
  {
   "cell_type": "code",
   "execution_count": 2,
   "metadata": {},
   "outputs": [],
   "source": [
    "def crop_center(img,cropx,cropy):\n",
    "    y,x = img.shape\n",
    "    startx = x//2 - cropx//2\n",
    "    starty = y//2 - cropy//2    \n",
    "    return img[starty:starty+cropy, startx:startx+cropx]"
   ]
  },
  {
   "cell_type": "code",
   "execution_count": 4,
   "metadata": {},
   "outputs": [],
   "source": [
    "for rt in range(1,6):\n",
    "    rasterdir = os.path.join(\"/Volumes\",\"TOSHIBA EXT\", \"rasterroad\", \"road\"+str(rt))\n",
    "    le = len(os.listdir(rasterdir ) )\n",
    "\n",
    "    result = []\n",
    "    mal = []\n",
    "    for i in range(0,le):\n",
    "        mapdir = os.path.join(rasterdir, \"ro\"+str(i+1)+\".tif\")\n",
    "        arr = np.array(gdal.Open(mapdir).ReadAsArray()   )\n",
    "        if arr.shape[1] < 64:\n",
    "            print (i)\n",
    "            mal2  = i\n",
    "            mal.append(mal2)\n",
    "            continue\n",
    "        \n",
    "   \n",
    "        arr = crop_center(arr, 64,64)\n",
    "        result.append(arr)\n",
    "            \n",
    "    result = np.array(result)     \n",
    "   # plt.imshow(arr)\n",
    "   # plt.show()\n",
    "   # print(arr.shape)\n",
    "    np.save('/Users/menglu/Documents/Github/deep_learning/predictors/road_64_'+ str(rt), result)\n",
    "#599,2225,2478,2504\n",
    "# till 2634\n",
    "\n"
   ]
  },
  {
   "cell_type": "code",
   "execution_count": 37,
   "metadata": {},
   "outputs": [
    {
     "name": "stdout",
     "output_type": "stream",
     "text": [
      "ro994.tif\n",
      "None\n"
     ]
    }
   ],
   "source": [
    " "
   ]
  },
  {
   "cell_type": "code",
   "execution_count": null,
   "metadata": {},
   "outputs": [],
   "source": []
  },
  {
   "cell_type": "code",
   "execution_count": null,
   "metadata": {},
   "outputs": [],
   "source": []
  },
  {
   "cell_type": "code",
   "execution_count": null,
   "metadata": {},
   "outputs": [],
   "source": []
  },
  {
   "cell_type": "code",
   "execution_count": null,
   "metadata": {},
   "outputs": [],
   "source": []
  },
  {
   "cell_type": "code",
   "execution_count": 13,
   "metadata": {},
   "outputs": [
    {
     "name": "stdout",
     "output_type": "stream",
     "text": [
      "None\n"
     ]
    }
   ],
   "source": [
    " "
   ]
  },
  {
   "cell_type": "code",
   "execution_count": null,
   "metadata": {},
   "outputs": [],
   "source": []
  }
 ],
 "metadata": {
  "kernelspec": {
   "display_name": "Python 3",
   "language": "python",
   "name": "python3"
  },
  "language_info": {
   "codemirror_mode": {
    "name": "ipython",
    "version": 3
   },
   "file_extension": ".py",
   "mimetype": "text/x-python",
   "name": "python",
   "nbconvert_exporter": "python",
   "pygments_lexer": "ipython3",
   "version": "3.7.4"
  }
 },
 "nbformat": 4,
 "nbformat_minor": 2
}
